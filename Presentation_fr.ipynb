{
 "cells": [
  {
   "cell_type": "markdown",
   "metadata": {
    "collapsed": true,
    "pycharm": {
     "name": "#%% md\n"
    }
   },
   "source": [
    "# Python En Parrellèle"
   ]
  },
  {
   "cell_type": "markdown",
   "metadata": {
    "pycharm": {
     "name": "#%% md\n"
    }
   },
   "source": [
    "Avant de commencer à vous expliquer comment faire du threading et du multiprocessing en python, vous devez avoir une\n",
    "idée de base de comment fonctionne votre ordinateur. Sans ces connaissances de base, il sera vraiment difficile de\n",
    "comprendre ce que vous codez.\n",
    "\n",
    "Un CPU est en ensemble de Core. Un core est un unité de calcul ou “processing unit”. C’est essentiellement une petite\n",
    "calculatrice qui fait des petites opérations vraiment simples et qui ne peut seulement faire un seul petit calcul à la\n",
    "fois. Ça veut dire que si votre CPU possède 9 cores comme dans la figure, alors votre CPU peut faire seulement 9\n",
    "opérations à la fois. Évidemment, vous devez vous doutez que vous arrivez à demander à votre CPU de faire plus que 9\n",
    "tâches à fois… Sinon comment pourriez vous faire pour être sur discord avec vos en même temps que de jouer à Valheim\n",
    "sur le serveur où vous êtes host toute en écoutant votre cours sur zoom… Eh bien, c’est l’utilitée des threads. Un\n",
    "thread est un programme ou un ensemble d’opérations qu’on demande à un core d’exécuter. Afin qu’un core soit en mesure\n",
    "d’exécuter les opérations nécessaire à plusieurs programmes à la fois, il alterne entre ceux-ci en exécutant une partie\n",
    "de chaque programme. Il peut donc y avoir plusieurs threads sur un seul core et les programmes sembleront s'exécuter en\n",
    "même temps. Toutefois, il ne faut pas se leurrer. En ayant deux programmes roulant sur le même core, le temps\n",
    "d'exécution sera plus grand ou égale au temps que ça aurait prit pour lancer ces deux programmes de façon séquentiel.\n",
    "Par contre, si on lance ces deux même threads sur deux cores différent, ce qu’on appelle le multiprocessing, les deux\n",
    "programmes se feront réellement en même temps et donc le temps d’exécution finale sera égale au temps du programme le\n",
    "plus long.\n",
    "\n",
    "Dans cette présentation, je vais vous montrer comment lancer plusieurs threads en même temps sur un seul core. Par\n",
    "après nous allons voir comment lancer des programmes sur plusieurs cores différents afin d’avoir des programmes\n",
    "s’exécutant réellement en parallèles dans l’objectif de sauver du temps.\n"
   ]
  },
  {
   "cell_type": "markdown",
   "metadata": {},
   "source": [
    "![CPU_Shm](figures/CPU_Shm.png)"
   ]
  },
  {
   "cell_type": "code",
   "execution_count": 23,
   "metadata": {},
   "outputs": [],
   "source": [
    "import time\n",
    "import functools\n",
    "import numpy as np\n",
    "import multiprocessing as mp\n",
    "from scipy.signal import convolve2d\n",
    "import psutil\n",
    "import threading as th"
   ]
  },
  {
   "cell_type": "code",
   "execution_count": 24,
   "metadata": {
    "pycharm": {
     "name": "#%%\n"
    }
   },
   "outputs": [],
   "source": [
    "def benchmark(_func=None, *, box_length=50):\n",
    "    def decorator_print_func_section(func):\n",
    "        box_char = '-'\n",
    "        title = (box_char*box_length) + ' ' + func.__name__ + ' ' + (box_char*box_length)\n",
    "\n",
    "        @functools.wraps(func)\n",
    "        def wrapper(*args, **kwargs):\n",
    "            print(title)\n",
    "            start_time = time.time()\n",
    "            out = func(*args, **kwargs)\n",
    "            stats_line = f\"Executed in {time.time() - start_time:.5f}s.\"\n",
    "            print(stats_line)\n",
    "            print(box_char*len(title))\n",
    "            return out\n",
    "        return wrapper\n",
    "\n",
    "    if _func is None:\n",
    "        return decorator_print_func_section\n",
    "    else:\n",
    "        return decorator_print_func_section(_func)"
   ]
  },
  {
   "cell_type": "code",
   "execution_count": 25,
   "metadata": {},
   "outputs": [],
   "source": [
    "def split(container, count):\n",
    "    return [container[i::count] for i in range(count)]\n",
    "\n",
    "def apply_intern(M, kernels):\n",
    "    return [convolve2d(M, k) for k in kernels]\n",
    "\n",
    "@benchmark\n",
    "def apply_kernels_on_matrix_sp(M, kernels):\n",
    "    return apply_intern(M, kernels)\n",
    "\n",
    "@benchmark\n",
    "def apply_kernels_on_matrix_mp(M, kernels):\n",
    "    cpu_count = psutil.cpu_count(logical=False)\n",
    "    with mp.Pool(cpu_count) as pool:\n",
    "        out = pool.starmap(convolve2d, [(M, k) for k in kernels])\n",
    "    return out\n",
    "\n",
    "@benchmark\n",
    "def apply_kernels_on_matrix_mt(M, kernels):\n",
    "    thread_count = psutil.cpu_count(logical=False)\n",
    "    splitter_kernels = split(kernels, thread_count)\n",
    "    threads = [th.Thread(target=apply_intern, args=(M, splitter_kernels[i])) for i in range(thread_count)]\n",
    "    for thread in threads:\n",
    "        thread.start()\n",
    "    for thread in threads:\n",
    "        thread.join()"
   ]
  },
  {
   "cell_type": "code",
   "execution_count": 26,
   "metadata": {
    "pycharm": {
     "name": "#%%"
    },
    "scrolled": true
   },
   "outputs": [
    {
     "name": "stdout",
     "output_type": "stream",
     "text": [
      "-------------------------------------------------- apply_kernels_on_matrix_sp --------------------------------------------------\n",
      "Executed in 18.76574s.\n",
      "--------------------------------------------------------------------------------------------------------------------------------\n",
      "-------------------------------------------------- apply_kernels_on_matrix_mp --------------------------------------------------\n",
      "Executed in 6.41115s.\n",
      "--------------------------------------------------------------------------------------------------------------------------------\n",
      "-------------------------------------------------- apply_kernels_on_matrix_mt --------------------------------------------------\n",
      "Executed in 18.89957s.\n",
      "--------------------------------------------------------------------------------------------------------------------------------\n"
     ]
    }
   ],
   "source": [
    "if __name__ == '__main__':\n",
    "    A = np.random.randint(0, 100, (1_000, 1_000))\n",
    "    kernels = [np.random.randint(0, 100, (10, 10)) for _ in  range(100)]\n",
    "\n",
    "    apply_kernels_on_matrix_sp(A, kernels)\n",
    "    apply_kernels_on_matrix_mp(A, kernels)\n",
    "    apply_kernels_on_matrix_mt(A, kernels)"
   ]
  },
  {
   "cell_type": "markdown",
   "metadata": {
    "pycharm": {
     "name": "#%% md\n"
    }
   },
   "source": [
    "Thread"
   ]
  },
  {
   "cell_type": "code",
   "execution_count": 12,
   "outputs": [],
   "source": [
    "def sleepy_boiiii(id_):\n",
    "    print(f\"{id_}: au dodo\")\n",
    "    time.sleep(2.5)\n",
    "    print(f\"{id_}: au réveil\")"
   ],
   "metadata": {
    "collapsed": false,
    "pycharm": {
     "name": "#%%\n"
    }
   }
  },
  {
   "cell_type": "code",
   "execution_count": 15,
   "outputs": [
    {
     "name": "stdout",
     "output_type": "stream",
     "text": [
      "0: au dodo\n",
      "1: au dodo\n",
      "0: au réveil1: au réveil\n",
      "\n",
      "2.508399248123169\n"
     ]
    }
   ],
   "source": [
    "thread1 = th.Thread(target=sleepy_boiiii, args=(0,))\n",
    "thread2 = th.Thread(target=sleepy_boiiii, args=(1,))\n",
    "thread1.start()\n",
    "thread2.start()\n",
    "thread1.join()\n",
    "thread2.join()"
   ],
   "metadata": {
    "collapsed": false,
    "pycharm": {
     "name": "#%%\n"
    }
   }
  },
  {
   "cell_type": "code",
   "execution_count": 18,
   "outputs": [],
   "source": [
    "def sleepy_boiiii_lock(id_, lock):\n",
    "    lock.acquire()\n",
    "    print(f\"{id_}: au dodo\")\n",
    "    time.sleep(2.5)\n",
    "    print(f\"{id_}: au réveil\")\n",
    "    lock.release()"
   ],
   "metadata": {
    "collapsed": false,
    "pycharm": {
     "name": "#%%\n"
    }
   }
  },
  {
   "cell_type": "code",
   "execution_count": 19,
   "outputs": [
    {
     "name": "stdout",
     "output_type": "stream",
     "text": [
      "0: au dodo\n",
      "0: au réveil\n",
      "1: au dodo\n",
      "1: au réveil\n"
     ]
    }
   ],
   "source": [
    "lock = th.Lock()\n",
    "thread1 = th.Thread(target=sleepy_boiiii_lock, args=(0, lock))\n",
    "thread2 = th.Thread(target=sleepy_boiiii_lock, args=(1, lock))\n",
    "thread1.start()\n",
    "thread2.start()\n",
    "thread1.join()\n",
    "thread2.join()"
   ],
   "metadata": {
    "collapsed": false,
    "pycharm": {
     "name": "#%%\n"
    }
   }
  },
  {
   "cell_type": "markdown",
   "source": [
    "Classes qui dérivent de Process et Thread"
   ],
   "metadata": {
    "collapsed": false,
    "pycharm": {
     "name": "#%% md\n"
    }
   }
  },
  {
   "cell_type": "code",
   "execution_count": 21,
   "outputs": [],
   "source": [
    "class MonThread(th.Thread):\n",
    "\n",
    "    def __init__(self, lock, func, *fargs, **fkwargs):\n",
    "        super(MonThread, self).__init__()\n",
    "        self._lock = lock\n",
    "        self._func = func\n",
    "        self._fargs = fargs\n",
    "        self._fkwargs = fkwargs\n",
    "\n",
    "    def run(self):\n",
    "        with lock:\n",
    "            retour = self._func(*self._fargs, **self._fkwargs)\n",
    "        return retour"
   ],
   "metadata": {
    "collapsed": false,
    "pycharm": {
     "name": "#%%\n"
    }
   }
  },
  {
   "cell_type": "code",
   "execution_count": 22,
   "outputs": [
    {
     "name": "stdout",
     "output_type": "stream",
     "text": [
      "0: au dodo\n",
      "0: au réveil\n",
      "1: au dodo\n",
      "1: au réveil\n"
     ]
    }
   ],
   "source": [
    "thread1 = MonThread(lock, sleepy_boiiii, 0)\n",
    "thread2 = MonThread(lock, sleepy_boiiii, 1)\n",
    "thread1.start()\n",
    "thread2.start()\n",
    "thread1.join()\n",
    "thread2.join()"
   ],
   "metadata": {
    "collapsed": false,
    "pycharm": {
     "name": "#%%\n"
    }
   }
  },
  {
   "cell_type": "code",
   "execution_count": null,
   "outputs": [],
   "source": [],
   "metadata": {
    "collapsed": false,
    "pycharm": {
     "name": "#%%\n"
    }
   }
  }
 ],
 "metadata": {
  "kernelspec": {
   "display_name": "Python 3",
   "language": "python",
   "name": "python3"
  },
  "language_info": {
   "codemirror_mode": {
    "name": "ipython",
    "version": 3
   },
   "file_extension": ".py",
   "mimetype": "text/x-python",
   "name": "python",
   "nbconvert_exporter": "python",
   "pygments_lexer": "ipython3",
   "version": "3.8.5"
  }
 },
 "nbformat": 4,
 "nbformat_minor": 1
}